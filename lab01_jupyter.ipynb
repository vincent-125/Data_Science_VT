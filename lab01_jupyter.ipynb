{
 "cells": [
  {
   "cell_type": "markdown",
   "id": "80437a81-c6f8-4e8a-a91d-8d95a2fce55e",
   "metadata": {
    "tags": []
   },
   "source": [
    "# LAB - Jupyter Notebooks"
   ]
  },
  {
   "cell_type": "markdown",
   "id": "099ed1ba-6838-47d6-ab64-f16dd3acdda1",
   "metadata": {
    "jp-MarkdownHeadingCollapsed": true,
    "tags": []
   },
   "source": [
    "## The basics"
   ]
  },
  {
   "cell_type": "code",
   "execution_count": 2,
   "id": "8506e312-a290-4d5a-a06f-6e368602cd41",
   "metadata": {},
   "outputs": [
    {
     "data": {
      "text/plain": [
       "2"
      ]
     },
     "execution_count": 2,
     "metadata": {},
     "output_type": "execute_result"
    }
   ],
   "source": [
    "1+1"
   ]
  },
  {
   "cell_type": "markdown",
   "id": "5b78801f-fd7a-4268-a938-5517d8a94af1",
   "metadata": {
    "tags": []
   },
   "source": [
    "## Advanced features"
   ]
  },
  {
   "cell_type": "markdown",
   "id": "55724eb8-cf67-4681-a8cb-1651026d10f9",
   "metadata": {},
   "source": [
    "web hyperlink: <a href=https://www.cognitiveclass.ai>Cognitive Class</a> "
   ]
  },
  {
   "cell_type": "markdown",
   "id": "28268765-9315-41de-a144-cfd94e296dc4",
   "metadata": {},
   "source": [
    "change from code to markdowm shortcut esc + m"
   ]
  },
  {
   "cell_type": "markdown",
   "id": "0f3a5976-1fe2-46d6-80bb-97b9bcd86ad3",
   "metadata": {},
   "source": [
    "change markdown to code esc + y"
   ]
  },
  {
   "cell_type": "markdown",
   "id": "9971cff2-436b-4f4c-97ce-31594a7ff436",
   "metadata": {},
   "source": [
    "*italics*"
   ]
  },
  {
   "cell_type": "markdown",
   "id": "26b53050-59f9-4ece-a935-a330ae146d6c",
   "metadata": {},
   "source": [
    "**bold**"
   ]
  },
  {
   "cell_type": "markdown",
   "id": "f6c89496-aca2-4318-86d9-f01ba34b979d",
   "metadata": {},
   "source": [
    "~~strikethrough~~"
   ]
  },
  {
   "cell_type": "markdown",
   "id": "f5ca7cb3-512c-48ab-bbd5-b8725212220f",
   "metadata": {},
   "source": [
    "1. item 1\n",
    "2. item 2\n",
    "    1. substep"
   ]
  },
  {
   "cell_type": "markdown",
   "id": "8e40365d-ef52-4126-b149-21199d449e7e",
   "metadata": {},
   "source": [
    "- main bullet\n",
    "    - sub bullet"
   ]
  },
  {
   "cell_type": "markdown",
   "id": "107d898b-691d-4f4d-9f15-619d3b2b06b2",
   "metadata": {},
   "source": [
    "    indented text"
   ]
  },
  {
   "cell_type": "markdown",
   "id": "1e61e76e-85ca-4888-926b-e0f906928f06",
   "metadata": {},
   "source": [
    "**Table**\n",
    "|header 1| header 2| header 3|\n",
    "|-----|-----|-----|\n",
    "|cell 11|cell 12| cell 13|\n",
    "|cell 21|cell 22| cell 23|\n",
    "|cell 31|cell 32| cell 33|\n",
    "|cell 41|cell 42| cell 43|"
   ]
  },
  {
   "cell_type": "code",
   "execution_count": null,
   "id": "51499cdb-c5af-432c-9969-46ef11d2c059",
   "metadata": {},
   "outputs": [],
   "source": []
  }
 ],
 "metadata": {
  "kernelspec": {
   "display_name": "Python 3 (ipykernel)",
   "language": "python",
   "name": "python3"
  },
  "language_info": {
   "codemirror_mode": {
    "name": "ipython",
    "version": 3
   },
   "file_extension": ".py",
   "mimetype": "text/x-python",
   "name": "python",
   "nbconvert_exporter": "python",
   "pygments_lexer": "ipython3",
   "version": "3.9.13"
  }
 },
 "nbformat": 4,
 "nbformat_minor": 5
}
